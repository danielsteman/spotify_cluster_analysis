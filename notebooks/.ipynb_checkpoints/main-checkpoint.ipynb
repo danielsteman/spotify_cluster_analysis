{
 "cells": [
  {
   "cell_type": "code",
   "execution_count": 1,
   "metadata": {},
   "outputs": [],
   "source": [
    "import os\n",
    "import math\n",
    "import pandas as pd\n",
    "import numpy as np\n",
    "import matplotlib.pyplot as plt\n",
    "import plotly.express as px\n",
    "\n",
    "import spotipy\n",
    "from spotipy.oauth2 import SpotifyOAuth\n",
    "\n",
    "from sklearn.cluster import KMeans\n",
    "from scipy.spatial.distance import cdist\n",
    "from sklearn import metrics\n",
    "from sklearn.manifold import TSNE\n",
    "from sklearn.cluster import MeanShift"
   ]
  },
  {
   "cell_type": "code",
   "execution_count": 3,
   "metadata": {},
   "outputs": [],
   "source": [
    "# Confidential info\n",
    "keys = open(\"keys.txt\", 'r').read().splitlines()\n",
    "\n",
    "client_id = keys[0].split('=')[-1]\n",
    "client_secret = keys[1].split('=')[-1]\n",
    "user = 116885657\n",
    "redirect_uri='http://localhost:8910/callback/'"
   ]
  },
  {
   "cell_type": "code",
   "execution_count": 4,
   "metadata": {},
   "outputs": [],
   "source": [
    "scope = \"user-library-read\"\n",
    "auth_manager = SpotifyOAuth(client_id=client_id, client_secret=client_secret, redirect_uri=redirect_uri, scope=scope)\n",
    "sp_read = spotipy.Spotify(auth_manager=auth_manager)"
   ]
  },
  {
   "cell_type": "code",
   "execution_count": 5,
   "metadata": {},
   "outputs": [],
   "source": [
    "scope = \"playlist-modify-public\"\n",
    "auth_manager = SpotifyOAuth(client_id=client_id, client_secret=client_secret, redirect_uri=redirect_uri, scope=scope)\n",
    "sp_write = spotipy.Spotify(auth_manager=auth_manager)"
   ]
  },
  {
   "cell_type": "code",
   "execution_count": 6,
   "metadata": {},
   "outputs": [],
   "source": [
    "def get_playlist_tracks(username,playlist_id):\n",
    "    results = sp_read.user_playlist_tracks(username,playlist_id)\n",
    "    tracks = results['items']\n",
    "    while results['next']:\n",
    "        results = sp_read.next(results)\n",
    "        tracks.extend(results['items'])\n",
    "    return tracks"
   ]
  },
  {
   "cell_type": "code",
   "execution_count": 7,
   "metadata": {},
   "outputs": [
    {
     "name": "stderr",
     "output_type": "stream",
     "text": [
      "Couldn't read cache at: .cache\n"
     ]
    }
   ],
   "source": [
    "playlist = get_playlist_tracks('116885657', '6xDTuhbV6qQD1MGd4a7BhQ')\n",
    "track_ids = [x['track']['id'] for x in playlist]"
   ]
  },
  {
   "cell_type": "code",
   "execution_count": 8,
   "metadata": {},
   "outputs": [
    {
     "data": {
      "text/plain": [
       "1094"
      ]
     },
     "execution_count": 8,
     "metadata": {},
     "output_type": "execute_result"
    }
   ],
   "source": [
    "len(track_ids)"
   ]
  },
  {
   "cell_type": "code",
   "execution_count": null,
   "metadata": {},
   "outputs": [],
   "source": [
    "data = []\n",
    "for track_id in track_ids:\n",
    "    features = sp_read.audio_features(track_id)[0]\n",
    "    data.append(features)"
   ]
  },
  {
   "cell_type": "code",
   "execution_count": null,
   "metadata": {},
   "outputs": [],
   "source": [
    "df = pd.DataFrame(data)\n",
    "df.head()"
   ]
  },
  {
   "cell_type": "code",
   "execution_count": null,
   "metadata": {},
   "outputs": [],
   "source": [
    "features = [\n",
    "    'danceability',\n",
    "    'energy',\n",
    "    'loudness',\n",
    "    'speechiness',\n",
    "    'acousticness',\n",
    "    'instrumentalness',\n",
    "    'liveness',\n",
    "    'valence',\n",
    "    'tempo'\n",
    "]"
   ]
  },
  {
   "cell_type": "code",
   "execution_count": null,
   "metadata": {},
   "outputs": [],
   "source": [
    "fig, axs = plt.subplots(3,3, figsize=(16, 9), facecolor='w', edgecolor='k')\n",
    "fig.subplots_adjust(hspace = .5)\n",
    "\n",
    "for feature in enumerate(features):\n",
    "    index = feature[0]\n",
    "    label = feature[1]\n",
    "    plt.subplot(3,3,index + 1)\n",
    "    plt.hist(df[label])\n",
    "    plt.title(label);"
   ]
  },
  {
   "cell_type": "code",
   "execution_count": null,
   "metadata": {},
   "outputs": [],
   "source": [
    "distortions = []\n",
    "X = df[features]\n",
    "\n",
    "# Determine the optimal K clusters with the Elbow method\n",
    "\n",
    "for i in range(1,10):\n",
    "    kmeans = KMeans(n_clusters=i, random_state=0).fit(df[features])\n",
    "    kmeans.fit(X)\n",
    "    distortions.append(sum(np.min(cdist(X, kmeans.cluster_centers_, \n",
    "                       'euclidean'),axis=1)) / X.shape[0])"
   ]
  },
  {
   "cell_type": "code",
   "execution_count": null,
   "metadata": {},
   "outputs": [],
   "source": [
    "# Semi-arbitrarily choose 4\n",
    "\n",
    "fig, axs = plt.subplots(figsize=(8,5))\n",
    "plt.xlabel(\"N clusters\")\n",
    "plt.ylabel(\"Euclidean distance metric\")\n",
    "plt.plot(distortions);"
   ]
  },
  {
   "cell_type": "code",
   "execution_count": null,
   "metadata": {},
   "outputs": [],
   "source": [
    "kmeans = KMeans(n_clusters=4, random_state=0).fit(df[features])\n",
    "kmeans.fit(X)\n",
    "df_clustered = df\n",
    "df_clustered['y_kmeans'] = kmeans.labels_"
   ]
  },
  {
   "cell_type": "code",
   "execution_count": null,
   "metadata": {},
   "outputs": [],
   "source": [
    "\"\"\"\n",
    "Evaluation performance of unsupervised clustering algorithms \n",
    "\n",
    "Elbow method\n",
    "Gap statistic\n",
    "ref: https://towardsdatascience.com/clustering-evaluation-strategies-98a4006fcfc\n",
    "\n",
    "Silhouette_score\n",
    "\n",
    "How measure goodness of fit of unsupervised clustering model\n",
    "https://stats.stackexchange.com/questions/21807/evaluation-measures-of-goodness-or-validity-of-clustering-without-having-truth\n",
    "\"\"\";"
   ]
  },
  {
   "cell_type": "code",
   "execution_count": null,
   "metadata": {},
   "outputs": [],
   "source": [
    "def clusterDist(clusterColumn):\n",
    "\n",
    "    N = len(df[clusterColumn].unique())\n",
    "    x = np.arange(N)\n",
    "    y = df.groupby(clusterColumn).count()['id']\n",
    "\n",
    "    fig, axs = plt.subplots(figsize=(8,5))\n",
    "    plt.bar(x,y)\n",
    "    plt.xlabel('Clusters')\n",
    "    plt.ylabel('N observations')\n",
    "    plt.title('distribution of N obs. per cluster')\n",
    "    return plt.show()"
   ]
  },
  {
   "cell_type": "code",
   "execution_count": null,
   "metadata": {},
   "outputs": [],
   "source": [
    "clusterDist('y_kmeans')"
   ]
  },
  {
   "cell_type": "code",
   "execution_count": null,
   "metadata": {},
   "outputs": [],
   "source": [
    "\"\"\"\n",
    "TSNE is used for 3d cluster visualization\n",
    "PCA could also be an option but seems to be less effective\n",
    "\"\"\";"
   ]
  },
  {
   "cell_type": "code",
   "execution_count": null,
   "metadata": {},
   "outputs": [],
   "source": [
    "X_embedded = TSNE(n_components=3).fit_transform(X)\n",
    "X_embedded.shape"
   ]
  },
  {
   "cell_type": "code",
   "execution_count": null,
   "metadata": {},
   "outputs": [],
   "source": [
    "reducedDimensions = ['TSNE1', 'TSNE2', 'TSNE3']\n",
    "df[reducedDimensions] = X_embedded"
   ]
  },
  {
   "cell_type": "code",
   "execution_count": null,
   "metadata": {},
   "outputs": [],
   "source": [
    "fig = plt.figure(figsize=(24,13.5))\n",
    "ax = fig.add_subplot(111, projection='3d')\n",
    "x = df['TSNE1']\n",
    "y = df['TSNE2']\n",
    "z = df['TSNE3']\n",
    "ax.scatter(x,y,z, s=40, c=df['y_kmeans'])\n",
    "plt.show()"
   ]
  },
  {
   "cell_type": "code",
   "execution_count": null,
   "metadata": {},
   "outputs": [],
   "source": [
    "print (f\"K-means silhouette coefficient: {metrics.silhouette_score(X, df['y_kmeans'])}\")"
   ]
  },
  {
   "cell_type": "code",
   "execution_count": null,
   "metadata": {},
   "outputs": [],
   "source": [
    "from sklearn.cluster import AffinityPropagation"
   ]
  },
  {
   "cell_type": "code",
   "execution_count": null,
   "metadata": {},
   "outputs": [],
   "source": [
    "APmodel = AffinityPropagation(random_state=5, \n",
    "                              verbose=True, \n",
    "                              max_iter=5000, \n",
    "                              convergence_iter=150)\n",
    "\n",
    "APclustering = APmodel.fit(X)\n",
    "df['y_AP'] = APclustering.labels_"
   ]
  },
  {
   "cell_type": "code",
   "execution_count": null,
   "metadata": {},
   "outputs": [],
   "source": [
    "print (f\"Affinity propagation yields {np.max(APclustering.labels_) + 1} clusters\")\n",
    "print (f\"and silhouette coefficient: {metrics.silhouette_score(X, APclustering.labels_)}\")"
   ]
  },
  {
   "cell_type": "code",
   "execution_count": null,
   "metadata": {},
   "outputs": [],
   "source": [
    "clusterDist('y_AP')"
   ]
  },
  {
   "cell_type": "code",
   "execution_count": null,
   "metadata": {},
   "outputs": [],
   "source": [
    "fig = plt.figure(figsize=(24,13.5))\n",
    "ax = fig.add_subplot(111, projection='3d')\n",
    "ax.scatter(x,y,z, s=40, c=df['y_AP'])\n",
    "plt.show()"
   ]
  },
  {
   "cell_type": "code",
   "execution_count": null,
   "metadata": {},
   "outputs": [],
   "source": [
    "meanShiftModel = MeanShift(n_jobs=-1)\n",
    "meanShiftClustering = meanShiftModel.fit(X)"
   ]
  },
  {
   "cell_type": "code",
   "execution_count": null,
   "metadata": {},
   "outputs": [],
   "source": [
    "print (f\"Mean shift yields {np.max(meanShiftClustering.labels_) + 1} clusters\")\n",
    "print (f\"and silhouette coefficient: {metrics.silhouette_score(X, meanShiftClustering.labels_)}\")"
   ]
  },
  {
   "cell_type": "code",
   "execution_count": null,
   "metadata": {},
   "outputs": [],
   "source": [
    "df['y_meanShift'] = meanShiftClustering.labels_\n",
    "df['y_meanShift'] = df['y_meanShift'].astype(str)"
   ]
  },
  {
   "cell_type": "code",
   "execution_count": null,
   "metadata": {},
   "outputs": [],
   "source": [
    "clusterDist('y_meanShift')"
   ]
  },
  {
   "cell_type": "code",
   "execution_count": null,
   "metadata": {},
   "outputs": [],
   "source": [
    "fig = px.scatter_3d(df[reducedDimensions + ['y_meanShift'] + ['id']], \n",
    "                    x='TSNE1',\n",
    "                    y='TSNE2',\n",
    "                    z='TSNE3',\n",
    "                    color='y_meanShift')\n",
    "\n",
    "fig.update_traces(marker=dict(size=3,\n",
    "                              line=dict(width=2,\n",
    "                              color='DarkSlateGrey')),\n",
    "                  selector=dict(mode='markers'))\n",
    "\n",
    "fig.show()"
   ]
  },
  {
   "cell_type": "code",
   "execution_count": null,
   "metadata": {},
   "outputs": [],
   "source": []
  },
  {
   "cell_type": "code",
   "execution_count": null,
   "metadata": {},
   "outputs": [],
   "source": []
  },
  {
   "cell_type": "code",
   "execution_count": null,
   "metadata": {},
   "outputs": [],
   "source": [
    "# Lookup all track ID's in mean shift cluster 0 \n",
    "clusterZeroTrackList = list(df[df['y_meanShift'] == '0']['id'])\n",
    "# Show sample\n",
    "clusterZeroTrackList[0:5]"
   ]
  },
  {
   "cell_type": "code",
   "execution_count": null,
   "metadata": {},
   "outputs": [],
   "source": [
    "# Create playlist\n",
    "#sp_write.user_playlist_create(user, \"test\")"
   ]
  },
  {
   "cell_type": "code",
   "execution_count": null,
   "metadata": {},
   "outputs": [],
   "source": [
    "#sp_write.playlist_add_items('2ZuE2v5gIshSQGWH2x3xVo', items=clusterZeroTrackList[0:100])"
   ]
  },
  {
   "cell_type": "code",
   "execution_count": null,
   "metadata": {},
   "outputs": [],
   "source": [
    "for i in range(batches):\n",
    "    print (i)"
   ]
  },
  {
   "cell_type": "code",
   "execution_count": null,
   "metadata": {},
   "outputs": [],
   "source": []
  }
 ],
 "metadata": {
  "kernelspec": {
   "display_name": "Python 3",
   "language": "python",
   "name": "python3"
  },
  "language_info": {
   "codemirror_mode": {
    "name": "ipython",
    "version": 3
   },
   "file_extension": ".py",
   "mimetype": "text/x-python",
   "name": "python",
   "nbconvert_exporter": "python",
   "pygments_lexer": "ipython3",
   "version": "3.9.0"
  }
 },
 "nbformat": 4,
 "nbformat_minor": 4
}
